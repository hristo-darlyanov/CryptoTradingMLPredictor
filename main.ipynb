{
 "cells": [
  {
   "cell_type": "code",
   "execution_count": 18,
   "metadata": {},
   "outputs": [
    {
     "name": "stdout",
     "output_type": "stream",
     "text": [
      "Requirement already satisfied: pandas in c:\\users\\memed\\appdata\\local\\programs\\python\\python39\\lib\\site-packages (1.5.3)\n",
      "Requirement already satisfied: numpy in c:\\users\\memed\\appdata\\local\\programs\\python\\python39\\lib\\site-packages (1.24.2)\n",
      "Requirement already satisfied: matplotlib in c:\\users\\memed\\appdata\\local\\programs\\python\\python39\\lib\\site-packages (3.7.0)\n",
      "Requirement already satisfied: scikit-learn in c:\\users\\memed\\appdata\\local\\programs\\python\\python39\\lib\\site-packages (1.2.1)\n",
      "Collecting seaborn\n",
      "  Downloading seaborn-0.12.2-py3-none-any.whl (293 kB)\n",
      "     ---------------------------------------- 0.0/293.3 kB ? eta -:--:--\n",
      "     -------------- ----------------------- 112.6/293.3 kB 3.2 MB/s eta 0:00:01\n",
      "     ------------------------------ ------- 235.5/293.3 kB 2.9 MB/s eta 0:00:01\n",
      "     -------------------------------------- 293.3/293.3 kB 3.0 MB/s eta 0:00:00\n",
      "Requirement already satisfied: pytz>=2020.1 in c:\\users\\memed\\appdata\\local\\programs\\python\\python39\\lib\\site-packages (from pandas) (2022.7.1)\n",
      "Requirement already satisfied: python-dateutil>=2.8.1 in c:\\users\\memed\\appdata\\roaming\\python\\python39\\site-packages (from pandas) (2.8.2)\n",
      "Requirement already satisfied: pyparsing>=2.3.1 in c:\\users\\memed\\appdata\\local\\programs\\python\\python39\\lib\\site-packages (from matplotlib) (3.0.9)\n",
      "Requirement already satisfied: importlib-resources>=3.2.0 in c:\\users\\memed\\appdata\\local\\programs\\python\\python39\\lib\\site-packages (from matplotlib) (5.12.0)\n",
      "Requirement already satisfied: packaging>=20.0 in c:\\users\\memed\\appdata\\roaming\\python\\python39\\site-packages (from matplotlib) (22.0)\n",
      "Requirement already satisfied: contourpy>=1.0.1 in c:\\users\\memed\\appdata\\local\\programs\\python\\python39\\lib\\site-packages (from matplotlib) (1.0.7)\n",
      "Requirement already satisfied: cycler>=0.10 in c:\\users\\memed\\appdata\\local\\programs\\python\\python39\\lib\\site-packages (from matplotlib) (0.11.0)\n",
      "Requirement already satisfied: kiwisolver>=1.0.1 in c:\\users\\memed\\appdata\\local\\programs\\python\\python39\\lib\\site-packages (from matplotlib) (1.4.4)\n",
      "Requirement already satisfied: pillow>=6.2.0 in c:\\users\\memed\\appdata\\local\\programs\\python\\python39\\lib\\site-packages (from matplotlib) (9.2.0)\n",
      "Requirement already satisfied: fonttools>=4.22.0 in c:\\users\\memed\\appdata\\local\\programs\\python\\python39\\lib\\site-packages (from matplotlib) (4.38.0)\n",
      "Requirement already satisfied: scipy>=1.3.2 in c:\\users\\memed\\appdata\\local\\programs\\python\\python39\\lib\\site-packages (from scikit-learn) (1.10.1)\n",
      "Requirement already satisfied: joblib>=1.1.1 in c:\\users\\memed\\appdata\\local\\programs\\python\\python39\\lib\\site-packages (from scikit-learn) (1.2.0)\n",
      "Requirement already satisfied: threadpoolctl>=2.0.0 in c:\\users\\memed\\appdata\\local\\programs\\python\\python39\\lib\\site-packages (from scikit-learn) (3.1.0)\n",
      "Requirement already satisfied: zipp>=3.1.0 in c:\\users\\memed\\appdata\\local\\programs\\python\\python39\\lib\\site-packages (from importlib-resources>=3.2.0->matplotlib) (3.8.1)\n",
      "Requirement already satisfied: six>=1.5 in c:\\users\\memed\\appdata\\roaming\\python\\python39\\site-packages (from python-dateutil>=2.8.1->pandas) (1.16.0)\n",
      "Installing collected packages: seaborn\n",
      "Successfully installed seaborn-0.12.2\n",
      "Note: you may need to restart the kernel to use updated packages.\n"
     ]
    }
   ],
   "source": [
    "pip install pandas numpy matplotlib scikit-learn seaborn"
   ]
  },
  {
   "cell_type": "code",
   "execution_count": 19,
   "metadata": {},
   "outputs": [],
   "source": [
    "import pandas as pd\n",
    "import datetime\n",
    "import matplotlib.pyplot as plt\n",
    "import numpy as np\n",
    "import seaborn as sb\n",
    "from sklearn.model_selection import train_test_split\n",
    "from sklearn.preprocessing import StandardScaler\n",
    "from sklearn.linear_model import LogisticRegression\n",
    "from sklearn.svm import SVC"
   ]
  },
  {
   "cell_type": "code",
   "execution_count": 3,
   "metadata": {},
   "outputs": [
    {
     "data": {
      "text/plain": [
       "<bound method NDFrame.head of                unix                 date   symbol      open      high  \\\n",
       "0     1677283200000  2023-02-25 00:00:00  BTC/USD  23192.31  23215.96   \n",
       "1     1677196800000  2023-02-24 00:00:00  BTC/USD  23948.04  24129.26   \n",
       "2     1677110400000  2023-02-23 00:00:00  BTC/USD  24187.13  24600.00   \n",
       "3     1677024000000  2023-02-22 00:00:00  BTC/USD  24450.50  24478.31   \n",
       "4     1676937600000  2023-02-21 00:00:00  BTC/USD  24837.60  25250.00   \n",
       "...             ...                  ...      ...       ...       ...   \n",
       "3046     1444622400  2015-10-12 04:00:00  BTC/USD    248.98    248.98   \n",
       "3047     1444536000  2015-10-11 04:00:00  BTC/USD    246.30    249.50   \n",
       "3048     1444449600  2015-10-10 04:00:00  BTC/USD    245.51    246.30   \n",
       "3049     1444363200  2015-10-09 04:00:00  BTC/USD    243.60    249.97   \n",
       "3050     1444276800  2015-10-08 04:00:00  BTC/USD      0.00    245.00   \n",
       "\n",
       "           low     close  Volume BTC    Volume USD  \n",
       "0     22763.07  23170.88  133.808693  3.100465e+06  \n",
       "1     22853.70  23192.31  544.586573  1.263022e+07  \n",
       "2     23626.93  23948.04  350.609705  8.396415e+06  \n",
       "3     23585.31  24187.13  400.018953  9.675310e+06  \n",
       "4     24165.65  24450.50  612.681818  1.498038e+07  \n",
       "...        ...       ...         ...           ...  \n",
       "3046    245.75    245.75   71.047743  1.745998e+04  \n",
       "3047    245.96    248.98   22.747091  5.663571e+03  \n",
       "3048    244.60    246.30   30.870549  7.603416e+03  \n",
       "3049    243.60    245.51   61.587068  1.512024e+04  \n",
       "3050      0.00    243.60   34.754703  8.466246e+03  \n",
       "\n",
       "[3051 rows x 9 columns]>"
      ]
     },
     "execution_count": 3,
     "metadata": {},
     "output_type": "execute_result"
    }
   ],
   "source": [
    "df = pd.read_csv('ohlc.csv')\n",
    "df.head"
   ]
  },
  {
   "cell_type": "code",
   "execution_count": 4,
   "metadata": {},
   "outputs": [],
   "source": [
    "df.drop(['Volume USD'], axis=1, inplace=True)"
   ]
  },
  {
   "cell_type": "code",
   "execution_count": 5,
   "metadata": {},
   "outputs": [
    {
     "data": {
      "text/html": [
       "<div>\n",
       "<style scoped>\n",
       "    .dataframe tbody tr th:only-of-type {\n",
       "        vertical-align: middle;\n",
       "    }\n",
       "\n",
       "    .dataframe tbody tr th {\n",
       "        vertical-align: top;\n",
       "    }\n",
       "\n",
       "    .dataframe thead th {\n",
       "        text-align: right;\n",
       "    }\n",
       "</style>\n",
       "<table border=\"1\" class=\"dataframe\">\n",
       "  <thead>\n",
       "    <tr style=\"text-align: right;\">\n",
       "      <th></th>\n",
       "      <th>unix</th>\n",
       "      <th>open</th>\n",
       "      <th>high</th>\n",
       "      <th>low</th>\n",
       "      <th>close</th>\n",
       "      <th>Volume BTC</th>\n",
       "    </tr>\n",
       "  </thead>\n",
       "  <tbody>\n",
       "    <tr>\n",
       "      <th>count</th>\n",
       "      <td>3.051000e+03</td>\n",
       "      <td>3051.000000</td>\n",
       "      <td>3051.000000</td>\n",
       "      <td>3051.000000</td>\n",
       "      <td>3051.000000</td>\n",
       "      <td>3051.000000</td>\n",
       "    </tr>\n",
       "    <tr>\n",
       "      <th>mean</th>\n",
       "      <td>1.181650e+12</td>\n",
       "      <td>16262.807142</td>\n",
       "      <td>16710.443203</td>\n",
       "      <td>15776.479666</td>\n",
       "      <td>16261.709410</td>\n",
       "      <td>2806.644653</td>\n",
       "    </tr>\n",
       "    <tr>\n",
       "      <th>std</th>\n",
       "      <td>7.085008e+11</td>\n",
       "      <td>16283.757706</td>\n",
       "      <td>16733.146585</td>\n",
       "      <td>15774.887082</td>\n",
       "      <td>16274.577374</td>\n",
       "      <td>3577.310068</td>\n",
       "    </tr>\n",
       "    <tr>\n",
       "      <th>min</th>\n",
       "      <td>1.444277e+09</td>\n",
       "      <td>0.000000</td>\n",
       "      <td>245.000000</td>\n",
       "      <td>0.000000</td>\n",
       "      <td>243.600000</td>\n",
       "      <td>0.000000</td>\n",
       "    </tr>\n",
       "    <tr>\n",
       "      <th>25%</th>\n",
       "      <td>1.510157e+09</td>\n",
       "      <td>3827.435000</td>\n",
       "      <td>3929.905000</td>\n",
       "      <td>3748.005000</td>\n",
       "      <td>3831.570000</td>\n",
       "      <td>893.937122</td>\n",
       "    </tr>\n",
       "    <tr>\n",
       "      <th>50%</th>\n",
       "      <td>1.576037e+12</td>\n",
       "      <td>9518.310000</td>\n",
       "      <td>9762.750000</td>\n",
       "      <td>9260.150000</td>\n",
       "      <td>9543.680000</td>\n",
       "      <td>1632.448129</td>\n",
       "    </tr>\n",
       "    <tr>\n",
       "      <th>75%</th>\n",
       "      <td>1.641917e+12</td>\n",
       "      <td>22839.325000</td>\n",
       "      <td>23323.520000</td>\n",
       "      <td>22355.255000</td>\n",
       "      <td>22839.325000</td>\n",
       "      <td>3148.306449</td>\n",
       "    </tr>\n",
       "    <tr>\n",
       "      <th>max</th>\n",
       "      <td>1.677283e+12</td>\n",
       "      <td>68525.750000</td>\n",
       "      <td>69000.000000</td>\n",
       "      <td>66262.480000</td>\n",
       "      <td>68525.750000</td>\n",
       "      <td>54142.433523</td>\n",
       "    </tr>\n",
       "  </tbody>\n",
       "</table>\n",
       "</div>"
      ],
      "text/plain": [
       "               unix          open          high           low         close  \\\n",
       "count  3.051000e+03   3051.000000   3051.000000   3051.000000   3051.000000   \n",
       "mean   1.181650e+12  16262.807142  16710.443203  15776.479666  16261.709410   \n",
       "std    7.085008e+11  16283.757706  16733.146585  15774.887082  16274.577374   \n",
       "min    1.444277e+09      0.000000    245.000000      0.000000    243.600000   \n",
       "25%    1.510157e+09   3827.435000   3929.905000   3748.005000   3831.570000   \n",
       "50%    1.576037e+12   9518.310000   9762.750000   9260.150000   9543.680000   \n",
       "75%    1.641917e+12  22839.325000  23323.520000  22355.255000  22839.325000   \n",
       "max    1.677283e+12  68525.750000  69000.000000  66262.480000  68525.750000   \n",
       "\n",
       "         Volume BTC  \n",
       "count   3051.000000  \n",
       "mean    2806.644653  \n",
       "std     3577.310068  \n",
       "min        0.000000  \n",
       "25%      893.937122  \n",
       "50%     1632.448129  \n",
       "75%     3148.306449  \n",
       "max    54142.433523  "
      ]
     },
     "execution_count": 5,
     "metadata": {},
     "output_type": "execute_result"
    }
   ],
   "source": [
    "df.describe()"
   ]
  },
  {
   "cell_type": "code",
   "execution_count": 6,
   "metadata": {},
   "outputs": [
    {
     "name": "stdout",
     "output_type": "stream",
     "text": [
      "<class 'pandas.core.frame.DataFrame'>\n",
      "RangeIndex: 3051 entries, 0 to 3050\n",
      "Data columns (total 8 columns):\n",
      " #   Column      Non-Null Count  Dtype  \n",
      "---  ------      --------------  -----  \n",
      " 0   unix        3051 non-null   int64  \n",
      " 1   date        3051 non-null   object \n",
      " 2   symbol      3051 non-null   object \n",
      " 3   open        3051 non-null   float64\n",
      " 4   high        3051 non-null   float64\n",
      " 5   low         3051 non-null   float64\n",
      " 6   close       3051 non-null   float64\n",
      " 7   Volume BTC  3051 non-null   float64\n",
      "dtypes: float64(5), int64(1), object(2)\n",
      "memory usage: 190.8+ KB\n"
     ]
    }
   ],
   "source": [
    "df.info()"
   ]
  },
  {
   "cell_type": "code",
   "execution_count": 7,
   "metadata": {},
   "outputs": [],
   "source": [
    "df.drop(['unix'], axis=1, inplace=True)"
   ]
  },
  {
   "cell_type": "code",
   "execution_count": 8,
   "metadata": {},
   "outputs": [],
   "source": [
    "df.drop(['symbol'], axis=1, inplace=True)"
   ]
  },
  {
   "cell_type": "code",
   "execution_count": 9,
   "metadata": {},
   "outputs": [],
   "source": [
    "df.rename(columns={'Volume BTC':'volume'}, inplace=True)"
   ]
  },
  {
   "cell_type": "code",
   "execution_count": 10,
   "metadata": {},
   "outputs": [
    {
     "data": {
      "text/html": [
       "<div>\n",
       "<style scoped>\n",
       "    .dataframe tbody tr th:only-of-type {\n",
       "        vertical-align: middle;\n",
       "    }\n",
       "\n",
       "    .dataframe tbody tr th {\n",
       "        vertical-align: top;\n",
       "    }\n",
       "\n",
       "    .dataframe thead th {\n",
       "        text-align: right;\n",
       "    }\n",
       "</style>\n",
       "<table border=\"1\" class=\"dataframe\">\n",
       "  <thead>\n",
       "    <tr style=\"text-align: right;\">\n",
       "      <th></th>\n",
       "      <th>date</th>\n",
       "      <th>open</th>\n",
       "      <th>high</th>\n",
       "      <th>low</th>\n",
       "      <th>close</th>\n",
       "      <th>volume</th>\n",
       "      <th>year</th>\n",
       "      <th>month</th>\n",
       "      <th>day</th>\n",
       "    </tr>\n",
       "  </thead>\n",
       "  <tbody>\n",
       "    <tr>\n",
       "      <th>0</th>\n",
       "      <td>2023-02-25 00:00:00</td>\n",
       "      <td>23192.31</td>\n",
       "      <td>23215.96</td>\n",
       "      <td>22763.07</td>\n",
       "      <td>23170.88</td>\n",
       "      <td>133.808693</td>\n",
       "      <td>2023</td>\n",
       "      <td>2</td>\n",
       "      <td>25</td>\n",
       "    </tr>\n",
       "    <tr>\n",
       "      <th>1</th>\n",
       "      <td>2023-02-24 00:00:00</td>\n",
       "      <td>23948.04</td>\n",
       "      <td>24129.26</td>\n",
       "      <td>22853.70</td>\n",
       "      <td>23192.31</td>\n",
       "      <td>544.586573</td>\n",
       "      <td>2023</td>\n",
       "      <td>2</td>\n",
       "      <td>24</td>\n",
       "    </tr>\n",
       "    <tr>\n",
       "      <th>2</th>\n",
       "      <td>2023-02-23 00:00:00</td>\n",
       "      <td>24187.13</td>\n",
       "      <td>24600.00</td>\n",
       "      <td>23626.93</td>\n",
       "      <td>23948.04</td>\n",
       "      <td>350.609705</td>\n",
       "      <td>2023</td>\n",
       "      <td>2</td>\n",
       "      <td>23</td>\n",
       "    </tr>\n",
       "    <tr>\n",
       "      <th>3</th>\n",
       "      <td>2023-02-22 00:00:00</td>\n",
       "      <td>24450.50</td>\n",
       "      <td>24478.31</td>\n",
       "      <td>23585.31</td>\n",
       "      <td>24187.13</td>\n",
       "      <td>400.018953</td>\n",
       "      <td>2023</td>\n",
       "      <td>2</td>\n",
       "      <td>22</td>\n",
       "    </tr>\n",
       "    <tr>\n",
       "      <th>4</th>\n",
       "      <td>2023-02-21 00:00:00</td>\n",
       "      <td>24837.60</td>\n",
       "      <td>25250.00</td>\n",
       "      <td>24165.65</td>\n",
       "      <td>24450.50</td>\n",
       "      <td>612.681818</td>\n",
       "      <td>2023</td>\n",
       "      <td>2</td>\n",
       "      <td>21</td>\n",
       "    </tr>\n",
       "    <tr>\n",
       "      <th>...</th>\n",
       "      <td>...</td>\n",
       "      <td>...</td>\n",
       "      <td>...</td>\n",
       "      <td>...</td>\n",
       "      <td>...</td>\n",
       "      <td>...</td>\n",
       "      <td>...</td>\n",
       "      <td>...</td>\n",
       "      <td>...</td>\n",
       "    </tr>\n",
       "    <tr>\n",
       "      <th>3046</th>\n",
       "      <td>2015-10-12 04:00:00</td>\n",
       "      <td>248.98</td>\n",
       "      <td>248.98</td>\n",
       "      <td>245.75</td>\n",
       "      <td>245.75</td>\n",
       "      <td>71.047743</td>\n",
       "      <td>2015</td>\n",
       "      <td>10</td>\n",
       "      <td>12</td>\n",
       "    </tr>\n",
       "    <tr>\n",
       "      <th>3047</th>\n",
       "      <td>2015-10-11 04:00:00</td>\n",
       "      <td>246.30</td>\n",
       "      <td>249.50</td>\n",
       "      <td>245.96</td>\n",
       "      <td>248.98</td>\n",
       "      <td>22.747091</td>\n",
       "      <td>2015</td>\n",
       "      <td>10</td>\n",
       "      <td>11</td>\n",
       "    </tr>\n",
       "    <tr>\n",
       "      <th>3048</th>\n",
       "      <td>2015-10-10 04:00:00</td>\n",
       "      <td>245.51</td>\n",
       "      <td>246.30</td>\n",
       "      <td>244.60</td>\n",
       "      <td>246.30</td>\n",
       "      <td>30.870549</td>\n",
       "      <td>2015</td>\n",
       "      <td>10</td>\n",
       "      <td>10</td>\n",
       "    </tr>\n",
       "    <tr>\n",
       "      <th>3049</th>\n",
       "      <td>2015-10-09 04:00:00</td>\n",
       "      <td>243.60</td>\n",
       "      <td>249.97</td>\n",
       "      <td>243.60</td>\n",
       "      <td>245.51</td>\n",
       "      <td>61.587068</td>\n",
       "      <td>2015</td>\n",
       "      <td>10</td>\n",
       "      <td>9</td>\n",
       "    </tr>\n",
       "    <tr>\n",
       "      <th>3050</th>\n",
       "      <td>2015-10-08 04:00:00</td>\n",
       "      <td>0.00</td>\n",
       "      <td>245.00</td>\n",
       "      <td>0.00</td>\n",
       "      <td>243.60</td>\n",
       "      <td>34.754703</td>\n",
       "      <td>2015</td>\n",
       "      <td>10</td>\n",
       "      <td>8</td>\n",
       "    </tr>\n",
       "  </tbody>\n",
       "</table>\n",
       "<p>3051 rows × 9 columns</p>\n",
       "</div>"
      ],
      "text/plain": [
       "                     date      open      high       low     close      volume  \\\n",
       "0     2023-02-25 00:00:00  23192.31  23215.96  22763.07  23170.88  133.808693   \n",
       "1     2023-02-24 00:00:00  23948.04  24129.26  22853.70  23192.31  544.586573   \n",
       "2     2023-02-23 00:00:00  24187.13  24600.00  23626.93  23948.04  350.609705   \n",
       "3     2023-02-22 00:00:00  24450.50  24478.31  23585.31  24187.13  400.018953   \n",
       "4     2023-02-21 00:00:00  24837.60  25250.00  24165.65  24450.50  612.681818   \n",
       "...                   ...       ...       ...       ...       ...         ...   \n",
       "3046  2015-10-12 04:00:00    248.98    248.98    245.75    245.75   71.047743   \n",
       "3047  2015-10-11 04:00:00    246.30    249.50    245.96    248.98   22.747091   \n",
       "3048  2015-10-10 04:00:00    245.51    246.30    244.60    246.30   30.870549   \n",
       "3049  2015-10-09 04:00:00    243.60    249.97    243.60    245.51   61.587068   \n",
       "3050  2015-10-08 04:00:00      0.00    245.00      0.00    243.60   34.754703   \n",
       "\n",
       "      year  month  day  \n",
       "0     2023      2   25  \n",
       "1     2023      2   24  \n",
       "2     2023      2   23  \n",
       "3     2023      2   22  \n",
       "4     2023      2   21  \n",
       "...    ...    ...  ...  \n",
       "3046  2015     10   12  \n",
       "3047  2015     10   11  \n",
       "3048  2015     10   10  \n",
       "3049  2015     10    9  \n",
       "3050  2015     10    8  \n",
       "\n",
       "[3051 rows x 9 columns]"
      ]
     },
     "execution_count": 10,
     "metadata": {},
     "output_type": "execute_result"
    }
   ],
   "source": [
    "date = df['date'].str.replace(' ', '-').str.split('-', expand=True)\n",
    "year = date[0].astype('int')\n",
    "month = date[1].astype('int')\n",
    "day = date[2].astype('int')\n",
    "df['year'] = year\n",
    "df['month'] = month\n",
    "df['day'] = day\n",
    "df"
   ]
  },
  {
   "cell_type": "code",
   "execution_count": 11,
   "metadata": {},
   "outputs": [
    {
     "data": {
      "text/plain": [
       "date      0\n",
       "open      0\n",
       "high      0\n",
       "low       0\n",
       "close     0\n",
       "volume    0\n",
       "year      0\n",
       "month     0\n",
       "day       0\n",
       "dtype: int64"
      ]
     },
     "execution_count": 11,
     "metadata": {},
     "output_type": "execute_result"
    }
   ],
   "source": [
    "df.isnull().sum()"
   ]
  },
  {
   "cell_type": "code",
   "execution_count": 13,
   "metadata": {},
   "outputs": [
    {
     "name": "stderr",
     "output_type": "stream",
     "text": [
      "C:\\Users\\memed\\AppData\\Local\\Temp\\ipykernel_12004\\3119655578.py:1: FutureWarning: The default value of numeric_only in DataFrameGroupBy.mean is deprecated. In a future version, numeric_only will default to False. Either specify numeric_only or select only columns which should be valid for the function.\n",
      "  data_grouped = df.groupby('year').mean()\n",
      "C:\\Users\\memed\\AppData\\Local\\Temp\\ipykernel_12004\\3119655578.py:4: MatplotlibDeprecationWarning: Auto-removal of overlapping axes is deprecated since 3.6 and will be removed two minor releases later; explicitly call ax.remove() as needed.\n",
      "  plt.subplot(2,2,i+1)\n"
     ]
    },
    {
     "data": {
      "image/png": "[encoded data removed]",
      "text/plain": [
       "<Figure size 2000x1000 with 4 Axes>"
      ]
     },
     "metadata": {},
     "output_type": "display_data"
    }
   ],
   "source": [
    "data_grouped = df.groupby('year').mean()\n",
    "plt.subplots(figsize=(20,10))\n",
    "for i, col in enumerate(['open', 'high', 'low', 'close']):\n",
    "  plt.subplot(2,2,i+1)\n",
    "  data_grouped[col].plot.bar()\n",
    "plt.show()"
   ]
  },
  {
   "cell_type": "code",
   "execution_count": 23,
   "metadata": {},
   "outputs": [
    {
     "name": "stderr",
     "output_type": "stream",
     "text": [
      "C:\\Users\\memed\\AppData\\Local\\Temp\\ipykernel_12004\\3355488516.py:2: FutureWarning: The default value of numeric_only in DataFrame.corr is deprecated. In a future version, it will default to False. Select only valid columns or specify the value of numeric_only to silence this warning.\n",
      "  sb.heatmap(df.corr(), annot=True, cbar=False)\n"
     ]
    },
    {
     "data": {
      "image/png": "[encoded data removed]",
      "text/plain": [
       "<Figure size 500x500 with 1 Axes>"
      ]
     },
     "metadata": {},
     "output_type": "display_data"
    }
   ],
   "source": [
    "plt.figure(figsize=(5,5))\n",
    "sb.heatmap(df.corr(), annot=True, cbar=False)\n",
    "plt.show()"
   ]
  },
  {
   "cell_type": "code",
   "execution_count": null,
   "metadata": {},
   "outputs": [],
   "source": []
  }
 ],
 "metadata": {
  "kernelspec": {
   "display_name": "Python 3",
   "language": "python",
   "name": "python3"
  },
  "language_info": {
   "codemirror_mode": {
    "name": "ipython",
    "version": 3
   },
   "file_extension": ".py",
   "mimetype": "text/x-python",
   "name": "python",
   "nbconvert_exporter": "python",
   "pygments_lexer": "ipython3",
   "version": "3.9.7"
  },
  "orig_nbformat": 4,
  "vscode": {
   "interpreter": {
    "hash": "71a8abb91b4dec34577928c8c2bb965e81b4e82471c477a427f4d1e11fab94e2"
   }
  }
 },
 "nbformat": 4,
 "nbformat_minor": 2
}
