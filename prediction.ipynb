{
 "cells": [
  {
   "cell_type": "code",
   "execution_count": 1,
   "metadata": {},
   "outputs": [
    {
     "name": "stdout",
     "output_type": "stream",
     "text": [
      "Requirement already satisfied: yfinance in c:\\users\\memed\\appdata\\local\\programs\\python\\python39\\lib\\site-packages (0.2.12)\n",
      "Requirement already satisfied: finta in c:\\users\\memed\\appdata\\local\\programs\\python\\python39\\lib\\site-packages (1.3)\n",
      "Requirement already satisfied: Jinja2 in c:\\users\\memed\\appdata\\local\\programs\\python\\python39\\lib\\site-packages (3.1.2)\n",
      "Requirement already satisfied: xgboost in c:\\users\\memed\\appdata\\local\\programs\\python\\python39\\lib\\site-packages (1.7.4)\n",
      "Requirement already satisfied: pytz>=2022.5 in c:\\users\\memed\\appdata\\local\\programs\\python\\python39\\lib\\site-packages (from yfinance) (2022.7.1)\n",
      "Requirement already satisfied: multitasking>=0.0.7 in c:\\users\\memed\\appdata\\local\\programs\\python\\python39\\lib\\site-packages (from yfinance) (0.0.11)\n",
      "Requirement already satisfied: frozendict>=2.3.4 in c:\\users\\memed\\appdata\\local\\programs\\python\\python39\\lib\\site-packages (from yfinance) (2.3.5)\n",
      "Requirement already satisfied: requests>=2.26 in c:\\users\\memed\\appdata\\local\\programs\\python\\python39\\lib\\site-packages (from yfinance) (2.28.1)\n",
      "Requirement already satisfied: numpy>=1.16.5 in c:\\users\\memed\\appdata\\local\\programs\\python\\python39\\lib\\site-packages (from yfinance) (1.24.2)\n",
      "Requirement already satisfied: html5lib>=1.1 in c:\\users\\memed\\appdata\\local\\programs\\python\\python39\\lib\\site-packages (from yfinance) (1.1)\n",
      "Requirement already satisfied: pandas>=1.3.0 in c:\\users\\memed\\appdata\\local\\programs\\python\\python39\\lib\\site-packages (from yfinance) (1.5.3)\n",
      "Requirement already satisfied: appdirs>=1.4.4 in c:\\users\\memed\\appdata\\local\\programs\\python\\python39\\lib\\site-packages (from yfinance) (1.4.4)\n",
      "Requirement already satisfied: lxml>=4.9.1 in c:\\users\\memed\\appdata\\local\\programs\\python\\python39\\lib\\site-packages (from yfinance) (4.9.2)\n",
      "Requirement already satisfied: cryptography>=3.3.2 in c:\\users\\memed\\appdata\\local\\programs\\python\\python39\\lib\\site-packages (from yfinance) (37.0.4)\n",
      "Requirement already satisfied: beautifulsoup4>=4.11.1 in c:\\users\\memed\\appdata\\local\\programs\\python\\python39\\lib\\site-packages (from yfinance) (4.11.2)\n",
      "Requirement already satisfied: MarkupSafe>=2.0 in c:\\users\\memed\\appdata\\local\\programs\\python\\python39\\lib\\site-packages (from Jinja2) (2.1.2)\n",
      "Requirement already satisfied: scipy in c:\\users\\memed\\appdata\\local\\programs\\python\\python39\\lib\\site-packages (from xgboost) (1.10.1)\n",
      "Requirement already satisfied: soupsieve>1.2 in c:\\users\\memed\\appdata\\local\\programs\\python\\python39\\lib\\site-packages (from beautifulsoup4>=4.11.1->yfinance) (2.4)\n",
      "Requirement already satisfied: cffi>=1.12 in c:\\users\\memed\\appdata\\local\\programs\\python\\python39\\lib\\site-packages (from cryptography>=3.3.2->yfinance) (1.15.1)\n",
      "Requirement already satisfied: six>=1.9 in c:\\users\\memed\\appdata\\roaming\\python\\python39\\site-packages (from html5lib>=1.1->yfinance) (1.16.0)\n",
      "Requirement already satisfied: webencodings in c:\\users\\memed\\appdata\\local\\programs\\python\\python39\\lib\\site-packages (from html5lib>=1.1->yfinance) (0.5.1)\n",
      "Requirement already satisfied: python-dateutil>=2.8.1 in c:\\users\\memed\\appdata\\roaming\\python\\python39\\site-packages (from pandas>=1.3.0->yfinance) (2.8.2)\n",
      "Requirement already satisfied: urllib3<1.27,>=1.21.1 in c:\\users\\memed\\appdata\\local\\programs\\python\\python39\\lib\\site-packages (from requests>=2.26->yfinance) (1.26.11)\n",
      "Requirement already satisfied: charset-normalizer<3,>=2 in c:\\users\\memed\\appdata\\local\\programs\\python\\python39\\lib\\site-packages (from requests>=2.26->yfinance) (2.1.0)\n",
      "Requirement already satisfied: certifi>=2017.4.17 in c:\\users\\memed\\appdata\\local\\programs\\python\\python39\\lib\\site-packages (from requests>=2.26->yfinance) (2022.6.15)\n",
      "Requirement already satisfied: idna<4,>=2.5 in c:\\users\\memed\\appdata\\local\\programs\\python\\python39\\lib\\site-packages (from requests>=2.26->yfinance) (3.3)\n",
      "Requirement already satisfied: pycparser in c:\\users\\memed\\appdata\\local\\programs\\python\\python39\\lib\\site-packages (from cffi>=1.12->cryptography>=3.3.2->yfinance) (2.21)\n",
      "Note: you may need to restart the kernel to use updated packages.\n"
     ]
    }
   ],
   "source": [
    "%pip install yfinance finta Jinja2 xgboost"
   ]
  },
  {
   "cell_type": "code",
   "execution_count": 2,
   "metadata": {},
   "outputs": [],
   "source": [
    "import pandas as pd\n",
    "import re\n",
    "import numpy as np\n",
    "import matplotlib.pyplot as plt\n",
    "from tickerData import *\n",
    "from mlAlgorithms import *\n",
    "from sklearn.model_selection import train_test_split\n",
    "from sklearn.preprocessing import StandardScaler\n",
    "from sklearn import metrics\n",
    "import warnings\n",
    "warnings.filterwarnings('ignore')"
   ]
  },
  {
   "cell_type": "code",
   "execution_count": 3,
   "metadata": {},
   "outputs": [
    {
     "name": "stdout",
     "output_type": "stream",
     "text": [
      "[*********************100%***********************]  1 of 1 completed\n"
     ]
    }
   ],
   "source": [
    "df = getTickerData(ticker=\"btc-usd\", period=\"max\", interval=\"1d\")\n",
    "df.drop(columns={'Adj Close'}, inplace=True)\n",
    "df.rename(columns={'Date':'date', 'Open':'open', 'High':'high','Low':'low', 'Close':'close', 'Volume':'volume'}, inplace=True)\n",
    "df = exponential_smooth(df, 0.65)"
   ]
  },
  {
   "cell_type": "code",
   "execution_count": 4,
   "metadata": {},
   "outputs": [],
   "source": [
    "#indicator_list = \"\"\n",
    "#with open('indicators.txt', 'r') as indicators:\n",
    "#    indicator_list = indicators.read().replace(\"'\", '\"')\n",
    "#indicator_list = re.findall(r'\"([^\"]*)\"', indicator_list)"
   ]
  },
  {
   "cell_type": "code",
   "execution_count": 5,
   "metadata": {},
   "outputs": [],
   "source": [
    "indicators = ['RSI', 'MACD', 'STOCH','ADL', 'ATR', 'MOM', 'MFI', 'ROC', 'OBV', 'CCI', 'EMV', 'VORTEX', 'VAMA', 'ZLEMA', 'VWAP', 'PPO', 'ATR', 'DMI', 'PIVOT_FIB', 'CFI', 'WTO']\n",
    "df = getTickerIndicatorData(df, indicators, dropna=True)"
   ]
  },
  {
   "cell_type": "code",
   "execution_count": 6,
   "metadata": {},
   "outputs": [
    {
     "data": {
      "image/png": "[encoded data removed]",
      "text/plain": [
       "<Figure size 640x480 with 1 Axes>"
      ]
     },
     "metadata": {},
     "output_type": "display_data"
    }
   ],
   "source": [
    "df = produce_prediction(df, 14, dropna=True, removeohl=True)\n",
    "plt.pie(df['pred'].value_counts().values,\n",
    "        labels=[0, 1], autopct='%1.1f%%')\n",
    "plt.show()"
   ]
  },
  {
   "cell_type": "code",
   "execution_count": null,
   "metadata": {},
   "outputs": [],
   "source": []
  },
  {
   "cell_type": "code",
   "execution_count": 7,
   "metadata": {},
   "outputs": [
    {
     "data": {
      "text/html": [
       "<style type=\"text/css\">\n",
       "#T_e8b3b_row0_col0, #T_e8b3b_row1_col1, #T_e8b3b_row2_col2, #T_e8b3b_row3_col3, #T_e8b3b_row4_col4, #T_e8b3b_row5_col5 {\n",
       "  background-color: #b40426;\n",
       "  color: #f1f1f1;\n",
       "}\n",
       "#T_e8b3b_row0_col1, #T_e8b3b_row0_col4, #T_e8b3b_row2_col5, #T_e8b3b_row4_col0, #T_e8b3b_row4_col5, #T_e8b3b_row5_col2, #T_e8b3b_row5_col3 {\n",
       "  background-color: #3b4cc0;\n",
       "  color: #f1f1f1;\n",
       "}\n",
       "#T_e8b3b_row0_col2, #T_e8b3b_row5_col0 {\n",
       "  background-color: #6282ea;\n",
       "  color: #f1f1f1;\n",
       "}\n",
       "#T_e8b3b_row0_col3 {\n",
       "  background-color: #455cce;\n",
       "  color: #f1f1f1;\n",
       "}\n",
       "#T_e8b3b_row0_col5 {\n",
       "  background-color: #5e7de7;\n",
       "  color: #f1f1f1;\n",
       "}\n",
       "#T_e8b3b_row1_col0, #T_e8b3b_row5_col4 {\n",
       "  background-color: #3f53c6;\n",
       "  color: #f1f1f1;\n",
       "}\n",
       "#T_e8b3b_row1_col2, #T_e8b3b_row2_col1 {\n",
       "  background-color: #e3d9d3;\n",
       "  color: #000000;\n",
       "}\n",
       "#T_e8b3b_row1_col3, #T_e8b3b_row3_col1 {\n",
       "  background-color: #dedcdb;\n",
       "  color: #000000;\n",
       "}\n",
       "#T_e8b3b_row1_col4 {\n",
       "  background-color: #81a4fb;\n",
       "  color: #f1f1f1;\n",
       "}\n",
       "#T_e8b3b_row1_col5, #T_e8b3b_row3_col4, #T_e8b3b_row5_col1 {\n",
       "  background-color: #536edd;\n",
       "  color: #f1f1f1;\n",
       "}\n",
       "#T_e8b3b_row2_col0 {\n",
       "  background-color: #6687ed;\n",
       "  color: #f1f1f1;\n",
       "}\n",
       "#T_e8b3b_row2_col3 {\n",
       "  background-color: #f6bfa6;\n",
       "  color: #000000;\n",
       "}\n",
       "#T_e8b3b_row2_col4 {\n",
       "  background-color: #5572df;\n",
       "  color: #f1f1f1;\n",
       "}\n",
       "#T_e8b3b_row3_col0 {\n",
       "  background-color: #4b64d5;\n",
       "  color: #f1f1f1;\n",
       "}\n",
       "#T_e8b3b_row3_col2 {\n",
       "  background-color: #f6bea4;\n",
       "  color: #000000;\n",
       "}\n",
       "#T_e8b3b_row3_col5 {\n",
       "  background-color: #3c4ec2;\n",
       "  color: #f1f1f1;\n",
       "}\n",
       "#T_e8b3b_row4_col1 {\n",
       "  background-color: #7da0f9;\n",
       "  color: #f1f1f1;\n",
       "}\n",
       "#T_e8b3b_row4_col2 {\n",
       "  background-color: #506bda;\n",
       "  color: #f1f1f1;\n",
       "}\n",
       "#T_e8b3b_row4_col3 {\n",
       "  background-color: #4e68d8;\n",
       "  color: #f1f1f1;\n",
       "}\n",
       "</style>\n",
       "<table id=\"T_e8b3b\">\n",
       "  <thead>\n",
       "    <tr>\n",
       "      <th class=\"blank level0\" >&nbsp;</th>\n",
       "      <th id=\"T_e8b3b_level0_col0\" class=\"col_heading level0 col0\" >close</th>\n",
       "      <th id=\"T_e8b3b_level0_col1\" class=\"col_heading level0 col1\" >14 period RSI</th>\n",
       "      <th id=\"T_e8b3b_level0_col2\" class=\"col_heading level0 col2\" >MACD</th>\n",
       "      <th id=\"T_e8b3b_level0_col3\" class=\"col_heading level0 col3\" >MOM</th>\n",
       "      <th id=\"T_e8b3b_level0_col4\" class=\"col_heading level0 col4\" >normVol</th>\n",
       "      <th id=\"T_e8b3b_level0_col5\" class=\"col_heading level0 col5\" >pred</th>\n",
       "    </tr>\n",
       "  </thead>\n",
       "  <tbody>\n",
       "    <tr>\n",
       "      <th id=\"T_e8b3b_level0_row0\" class=\"row_heading level0 row0\" >close</th>\n",
       "      <td id=\"T_e8b3b_row0_col0\" class=\"data row0 col0\" >1.000000</td>\n",
       "      <td id=\"T_e8b3b_row0_col1\" class=\"data row0 col1\" >0.035895</td>\n",
       "      <td id=\"T_e8b3b_row0_col2\" class=\"data row0 col2\" >0.156616</td>\n",
       "      <td id=\"T_e8b3b_row0_col3\" class=\"data row0 col3\" >0.074743</td>\n",
       "      <td id=\"T_e8b3b_row0_col4\" class=\"data row0 col4\" >0.020552</td>\n",
       "      <td id=\"T_e8b3b_row0_col5\" class=\"data row0 col5\" >0.145317</td>\n",
       "    </tr>\n",
       "    <tr>\n",
       "      <th id=\"T_e8b3b_level0_row1\" class=\"row_heading level0 row1\" >14 period RSI</th>\n",
       "      <td id=\"T_e8b3b_row1_col0\" class=\"data row1 col0\" >0.035895</td>\n",
       "      <td id=\"T_e8b3b_row1_col1\" class=\"data row1 col1\" >1.000000</td>\n",
       "      <td id=\"T_e8b3b_row1_col2\" class=\"data row1 col2\" >0.543806</td>\n",
       "      <td id=\"T_e8b3b_row1_col3\" class=\"data row1 col3\" >0.524322</td>\n",
       "      <td id=\"T_e8b3b_row1_col4\" class=\"data row1 col4\" >0.232482</td>\n",
       "      <td id=\"T_e8b3b_row1_col5\" class=\"data row1 col5\" >0.112734</td>\n",
       "    </tr>\n",
       "    <tr>\n",
       "      <th id=\"T_e8b3b_level0_row2\" class=\"row_heading level0 row2\" >MACD</th>\n",
       "      <td id=\"T_e8b3b_row2_col0\" class=\"data row2 col0\" >0.156616</td>\n",
       "      <td id=\"T_e8b3b_row2_col1\" class=\"data row2 col1\" >0.543806</td>\n",
       "      <td id=\"T_e8b3b_row2_col2\" class=\"data row2 col2\" >1.000000</td>\n",
       "      <td id=\"T_e8b3b_row2_col3\" class=\"data row2 col3\" >0.658666</td>\n",
       "      <td id=\"T_e8b3b_row2_col4\" class=\"data row2 col4\" >0.106829</td>\n",
       "      <td id=\"T_e8b3b_row2_col5\" class=\"data row2 col5\" >0.035332</td>\n",
       "    </tr>\n",
       "    <tr>\n",
       "      <th id=\"T_e8b3b_level0_row3\" class=\"row_heading level0 row3\" >MOM</th>\n",
       "      <td id=\"T_e8b3b_row3_col0\" class=\"data row3 col0\" >0.074743</td>\n",
       "      <td id=\"T_e8b3b_row3_col1\" class=\"data row3 col1\" >0.524322</td>\n",
       "      <td id=\"T_e8b3b_row3_col2\" class=\"data row3 col2\" >0.658666</td>\n",
       "      <td id=\"T_e8b3b_row3_col3\" class=\"data row3 col3\" >1.000000</td>\n",
       "      <td id=\"T_e8b3b_row3_col4\" class=\"data row3 col4\" >0.100035</td>\n",
       "      <td id=\"T_e8b3b_row3_col5\" class=\"data row3 col5\" >0.039902</td>\n",
       "    </tr>\n",
       "    <tr>\n",
       "      <th id=\"T_e8b3b_level0_row4\" class=\"row_heading level0 row4\" >normVol</th>\n",
       "      <td id=\"T_e8b3b_row4_col0\" class=\"data row4 col0\" >0.020552</td>\n",
       "      <td id=\"T_e8b3b_row4_col1\" class=\"data row4 col1\" >0.232482</td>\n",
       "      <td id=\"T_e8b3b_row4_col2\" class=\"data row4 col2\" >0.106829</td>\n",
       "      <td id=\"T_e8b3b_row4_col3\" class=\"data row4 col3\" >0.100035</td>\n",
       "      <td id=\"T_e8b3b_row4_col4\" class=\"data row4 col4\" >1.000000</td>\n",
       "      <td id=\"T_e8b3b_row4_col5\" class=\"data row4 col5\" >0.036966</td>\n",
       "    </tr>\n",
       "    <tr>\n",
       "      <th id=\"T_e8b3b_level0_row5\" class=\"row_heading level0 row5\" >pred</th>\n",
       "      <td id=\"T_e8b3b_row5_col0\" class=\"data row5 col0\" >0.145317</td>\n",
       "      <td id=\"T_e8b3b_row5_col1\" class=\"data row5 col1\" >0.112734</td>\n",
       "      <td id=\"T_e8b3b_row5_col2\" class=\"data row5 col2\" >0.035332</td>\n",
       "      <td id=\"T_e8b3b_row5_col3\" class=\"data row5 col3\" >0.039902</td>\n",
       "      <td id=\"T_e8b3b_row5_col4\" class=\"data row5 col4\" >0.036966</td>\n",
       "      <td id=\"T_e8b3b_row5_col5\" class=\"data row5 col5\" >1.000000</td>\n",
       "    </tr>\n",
       "  </tbody>\n",
       "</table>\n"
      ],
      "text/plain": [
       "<pandas.io.formats.style.Styler at 0x2101e76c880>"
      ]
     },
     "execution_count": 7,
     "metadata": {},
     "output_type": "execute_result"
    }
   ],
   "source": [
    "cor_matrix = df.corr().abs()\n",
    "upper_tri = cor_matrix.where(np.triu(np.ones(cor_matrix.shape),k=1).astype(bool))\n",
    "to_drop = [column for column in upper_tri.columns if any(upper_tri[column] > 0.70)]\n",
    "df = df.drop(columns=to_drop)\n",
    "df.corr().abs().style.background_gradient(cmap='coolwarm')"
   ]
  },
  {
   "cell_type": "code",
   "execution_count": 8,
   "metadata": {},
   "outputs": [
    {
     "data": {
      "text/plain": [
       "(1842, 5)"
      ]
     },
     "execution_count": 8,
     "metadata": {},
     "output_type": "execute_result"
    }
   ],
   "source": [
    "features = StandardScaler().fit_transform(df[df.columns.difference(['pred', 'date'])])\n",
    "target = df['pred']\n",
    "\n",
    "X_train, X_test, Y_train, Y_test = train_test_split(features, target, test_size=0.4, shuffle=False)\n",
    "X_train.shape"
   ]
  },
  {
   "cell_type": "code",
   "execution_count": 9,
   "metadata": {},
   "outputs": [
    {
     "name": "stdout",
     "output_type": "stream",
     "text": [
      "{'n_neighbors': 19}\n",
      "              precision    recall  f1-score   support\n",
      "\n",
      "         0.0       0.52      0.80      0.63       569\n",
      "         1.0       0.68      0.37      0.48       659\n",
      "\n",
      "    accuracy                           0.57      1228\n",
      "   macro avg       0.60      0.59      0.56      1228\n",
      "weighted avg       0.61      0.57      0.55      1228\n",
      "\n",
      "KNN TEST SET - 0.5700325732899023\n",
      "KNN TRAIN SET - 0.6748099891422367\n",
      "{'C': 0.1, 'solver': 'lbfgs'}\n",
      "              precision    recall  f1-score   support\n",
      "\n",
      "         0.0       0.54      0.46      0.50       569\n",
      "         1.0       0.59      0.66      0.62       659\n",
      "\n",
      "    accuracy                           0.57      1228\n",
      "   macro avg       0.57      0.56      0.56      1228\n",
      "weighted avg       0.57      0.57      0.57      1228\n",
      "\n",
      "LR TEST SET - 0.5708469055374593\n",
      "LR TRAIN SET - 0.5836047774158524\n"
     ]
    },
    {
     "data": {
      "image/png": "[encoded data removed]",
      "text/plain": [
       "<Figure size 640x480 with 2 Axes>"
      ]
     },
     "metadata": {},
     "output_type": "display_data"
    },
    {
     "data": {
      "image/png": "[encoded data removed]",
      "text/plain": [
       "<Figure size 640x480 with 2 Axes>"
      ]
     },
     "metadata": {},
     "output_type": "display_data"
    }
   ],
   "source": [
    "knn = trained_KNN(X_train, X_test, Y_train, Y_test)\n",
    "lr = trained_LogisticRegression(X_train, X_test, Y_train, Y_test)\n",
    "#rfc = trained_RandomForestClassifier(X_train, X_test, Y_train, Y_test)\n",
    "vc = trained_VotingClassifier(lr, knn, X_train, X_test, Y_train, Y_test)"
   ]
  }
 ],
 "metadata": {
  "kernelspec": {
   "display_name": "Python 3",
   "language": "python",
   "name": "python3"
  },
  "language_info": {
   "codemirror_mode": {
    "name": "ipython",
    "version": 3
   },
   "file_extension": ".py",
   "mimetype": "text/x-python",
   "name": "python",
   "nbconvert_exporter": "python",
   "pygments_lexer": "ipython3",
   "version": "3.9.7"
  },
  "orig_nbformat": 4
 },
 "nbformat": 4,
 "nbformat_minor": 2
}
