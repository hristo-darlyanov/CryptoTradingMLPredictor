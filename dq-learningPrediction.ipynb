{
 "cells": [
  {
   "cell_type": "code",
   "execution_count": 28,
   "metadata": {},
   "outputs": [
    {
     "name": "stdout",
     "output_type": "stream",
     "text": [
      "Collecting pyyaml\n",
      "  Using cached PyYAML-6.0-cp39-cp39-win_amd64.whl (151 kB)\n",
      "Requirement already satisfied: h5py in c:\\users\\memed\\appdata\\local\\programs\\python\\python39\\lib\\site-packages (3.8.0)\n",
      "Requirement already satisfied: numpy>=1.14.5 in c:\\users\\memed\\appdata\\local\\programs\\python\\python39\\lib\\site-packages (from h5py) (1.24.2)\n",
      "Installing collected packages: pyyaml\n",
      "Successfully installed pyyaml-6.0\n",
      "Note: you may need to restart the kernel to use updated packages.\n"
     ]
    }
   ],
   "source": [
    "%pip install pyyaml h5py"
   ]
  },
  {
   "cell_type": "code",
   "execution_count": 2,
   "metadata": {},
   "outputs": [],
   "source": [
    "%matplotlib inline\n",
    "from pathlib import Path\n",
    "from time import time\n",
    "from collections import deque\n",
    "from random import sample\n",
    "\n",
    "import numpy as np\n",
    "import pandas as pd\n",
    "\n",
    "import matplotlib.pyplot as plt\n",
    "from matplotlib.ticker import FuncFormatter\n",
    "import seaborn as sns\n",
    "\n",
    "import tensorflow as tf\n",
    "from tensorflow.keras import Sequential\n",
    "from tensorflow.keras.layers import Dense, Dropout, LSTM\n",
    "from tensorflow.keras.optimizers import Adam\n",
    "from tensorflow.keras.regularizers import l2\n",
    "from tensorflow.python.client import device_lib\n",
    "\n",
    "import gym\n",
    "from gym.envs.registration import register\n",
    "from tickerData import *\n",
    "\n",
    "\n",
    "import warnings\n",
    "warnings.filterwarnings('ignore')"
   ]
  },
  {
   "cell_type": "code",
   "execution_count": 3,
   "metadata": {},
   "outputs": [],
   "source": [
    "np.random.seed(42)\n",
    "tf.random.set_seed(42)"
   ]
  },
  {
   "cell_type": "code",
   "execution_count": 4,
   "metadata": {},
   "outputs": [],
   "source": [
    "sns.set_style('whitegrid')"
   ]
  },
  {
   "cell_type": "code",
   "execution_count": 5,
   "metadata": {},
   "outputs": [
    {
     "name": "stdout",
     "output_type": "stream",
     "text": [
      "Using GPU\n",
      "[PhysicalDevice(name='/physical_device:GPU:0', device_type='GPU')]\n",
      "Num GPUs Available:  1\n"
     ]
    }
   ],
   "source": [
    "gpu_devices = tf.config.experimental.list_physical_devices('GPU')\n",
    "if gpu_devices:\n",
    "    print('Using GPU')\n",
    "    tf.config.experimental.set_memory_growth(gpu_devices[0], True)\n",
    "else:\n",
    "    print('Using CPU')\n",
    "print(tf.config.list_physical_devices('GPU'))\n",
    "print(\"Num GPUs Available: \", len(tf.config.list_physical_devices('GPU')))"
   ]
  },
  {
   "cell_type": "code",
   "execution_count": 6,
   "metadata": {},
   "outputs": [],
   "source": [
    "with tf.device('/gpu:0'):\n",
    "    a = tf.constant([1.0, 2.0, 3.0, 4.0, 5.0, 6.0], shape=[2, 3], name='a')\n",
    "    b = tf.constant([1.0, 2.0, 3.0, 4.0, 5.0, 6.0], shape=[3, 2], name='b')\n",
    "    c = tf.matmul(a, b)"
   ]
  },
  {
   "cell_type": "code",
   "execution_count": 7,
   "metadata": {},
   "outputs": [],
   "source": [
    "results_path = Path('results', 'trading_bot')\n",
    "if not results_path.exists():\n",
    "    results_path.mkdir(parents=True)"
   ]
  },
  {
   "cell_type": "code",
   "execution_count": 8,
   "metadata": {},
   "outputs": [],
   "source": [
    "def format_time(t):\n",
    "    m_, s = divmod(t, 60)\n",
    "    h, m = divmod(m_, 60)\n",
    "    return '{:02.0f}:{:02.0f}:{:02.0f}'.format(h, m, s)"
   ]
  },
  {
   "cell_type": "code",
   "execution_count": 9,
   "metadata": {},
   "outputs": [],
   "source": [
    "trading_days = 252"
   ]
  },
  {
   "cell_type": "code",
   "execution_count": 10,
   "metadata": {},
   "outputs": [],
   "source": [
    "register(\n",
    "    id='trading-v0',\n",
    "    entry_point='trading_env:TradingEnvironment',\n",
    "    max_episode_steps=trading_days\n",
    ")"
   ]
  },
  {
   "cell_type": "code",
   "execution_count": 11,
   "metadata": {},
   "outputs": [
    {
     "data": {
      "text/plain": [
       "'Trading costs: 0.10% | Time costs: 0.01%'"
      ]
     },
     "execution_count": 11,
     "metadata": {},
     "output_type": "execute_result"
    }
   ],
   "source": [
    "trading_cost_bps = 1e-3\n",
    "time_cost_bps = 1e-4\n",
    "\n",
    "f'Trading costs: {trading_cost_bps:.2%} | Time costs: {time_cost_bps:.2%}'"
   ]
  },
  {
   "cell_type": "code",
   "execution_count": 12,
   "metadata": {},
   "outputs": [
    {
     "name": "stderr",
     "output_type": "stream",
     "text": [
      "INFO:trading_env:trading_env logger started.\n",
      "INFO:trading_env:loading data for btc-usd...\n"
     ]
    },
    {
     "name": "stdout",
     "output_type": "stream",
     "text": [
      "[*********************100%***********************]  1 of 1 completed"
     ]
    },
    {
     "name": "stderr",
     "output_type": "stream",
     "text": [
      "INFO:trading_env:None\n"
     ]
    },
    {
     "name": "stdout",
     "output_type": "stream",
     "text": [
      "\n",
      "<class 'pandas.core.frame.DataFrame'>\n",
      "Int64Index: 3076 entries, 33 to 3108\n",
      "Data columns (total 10 columns):\n",
      " #   Column   Non-Null Count  Dtype  \n",
      "---  ------   --------------  -----  \n",
      " 0   returns  3076 non-null   float64\n",
      " 1   ret_2    3076 non-null   float64\n",
      " 2   ret_5    3076 non-null   float64\n",
      " 3   ret_10   3076 non-null   float64\n",
      " 4   ret_21   3076 non-null   float64\n",
      " 5   rsi      3076 non-null   float64\n",
      " 6   macd     3076 non-null   float64\n",
      " 7   atr      3076 non-null   float64\n",
      " 8   stoch    3076 non-null   float64\n",
      " 9   ultosc   3076 non-null   float64\n",
      "dtypes: float64(10)\n",
      "memory usage: 264.3 KB\n"
     ]
    },
    {
     "data": {
      "text/plain": [
       "[42]"
      ]
     },
     "execution_count": 12,
     "metadata": {},
     "output_type": "execute_result"
    }
   ],
   "source": [
    "trading_environment = gym.make('trading-v0', \n",
    "                               ticker='btc-usd',\n",
    "                               trading_days=trading_days,\n",
    "                               trading_cost_bps=trading_cost_bps,\n",
    "                               time_cost_bps=time_cost_bps)\n",
    "trading_environment.seed(42)"
   ]
  },
  {
   "cell_type": "code",
   "execution_count": 13,
   "metadata": {},
   "outputs": [],
   "source": [
    "state_dim = trading_environment.observation_space.shape[0]\n",
    "num_actions = trading_environment.action_space.n\n",
    "max_episode_steps = trading_environment.spec.max_episode_steps"
   ]
  },
  {
   "cell_type": "code",
   "execution_count": 14,
   "metadata": {},
   "outputs": [],
   "source": [
    "class DDQNAgent:\n",
    "    def __init__(self, state_dim,\n",
    "                 num_actions,\n",
    "                 learning_rate,\n",
    "                 gamma,\n",
    "                 epsilon_start,\n",
    "                 epsilon_end,\n",
    "                 epsilon_decay_steps,\n",
    "                 epsilon_exponential_decay,\n",
    "                 replay_capacity,\n",
    "                 architecture,\n",
    "                 l2_reg,\n",
    "                 tau,\n",
    "                 batch_size):\n",
    "\n",
    "        self.state_dim = state_dim\n",
    "        self.num_actions = num_actions\n",
    "        self.experience = deque([], maxlen=replay_capacity)\n",
    "        self.learning_rate = learning_rate\n",
    "        self.gamma = gamma\n",
    "        self.architecture = architecture\n",
    "        self.l2_reg = l2_reg\n",
    "\n",
    "        self.online_network = self.build_model()\n",
    "        self.target_network = self.build_model(trainable=False)\n",
    "        self.update_target()\n",
    "\n",
    "        self.epsilon = epsilon_start\n",
    "        self.epsilon_decay_steps = epsilon_decay_steps\n",
    "        self.epsilon_decay = (epsilon_start - epsilon_end) / epsilon_decay_steps\n",
    "        self.epsilon_exponential_decay = epsilon_exponential_decay\n",
    "        self.epsilon_history = []\n",
    "\n",
    "        self.total_steps = self.train_steps = 0\n",
    "        self.episodes = self.episode_length = self.train_episodes = 0\n",
    "        self.steps_per_episode = []\n",
    "        self.episode_reward = 0\n",
    "        self.rewards_history = []\n",
    "\n",
    "        self.batch_size = batch_size\n",
    "        self.tau = tau\n",
    "        self.losses = []\n",
    "        self.idx = tf.range(batch_size)\n",
    "        self.train = True\n",
    "\n",
    "    def build_model(self, trainable=True):\n",
    "        layers = []\n",
    "        n = len(self.architecture)\n",
    "        for i, units in enumerate(self.architecture, 1):\n",
    "            layers.append(Dense(units=units,\n",
    "                                input_dim=self.state_dim if i == 1 else None,\n",
    "                                activation='relu',\n",
    "                                kernel_regularizer=l2(self.l2_reg),\n",
    "                                name=f'Dense_{i}',\n",
    "                                trainable=trainable))\n",
    "        layers.append(Dropout(.1))\n",
    "        layers.append(Dense(units=self.num_actions,\n",
    "                            trainable=trainable,\n",
    "                            name='Output'))\n",
    "        model = Sequential(layers)\n",
    "        model.compile(loss='mean_squared_error',\n",
    "                      optimizer=Adam(lr=self.learning_rate))\n",
    "        return model\n",
    "\n",
    "    def update_target(self):\n",
    "        self.target_network.set_weights(self.online_network.get_weights())\n",
    "\n",
    "    def epsilon_greedy_policy(self, state):\n",
    "        self.total_steps += 1\n",
    "        if np.random.rand() <= self.epsilon:\n",
    "            return np.random.choice(self.num_actions)\n",
    "        q = self.online_network.predict(state, verbose=0)\n",
    "        return np.argmax(q, axis=1).squeeze()\n",
    "\n",
    "    def memorize_transition(self, s, a, r, s_prime, not_done):\n",
    "        if not_done:\n",
    "            self.episode_reward += r\n",
    "            self.episode_length += 1\n",
    "        else:\n",
    "            if self.train:\n",
    "                if self.episodes < self.epsilon_decay_steps:\n",
    "                    self.epsilon -= self.epsilon_decay\n",
    "                else:\n",
    "                    self.epsilon *= self.epsilon_exponential_decay\n",
    "\n",
    "            self.episodes += 1\n",
    "            self.rewards_history.append(self.episode_reward)\n",
    "            self.steps_per_episode.append(self.episode_length)\n",
    "            self.episode_reward, self.episode_length = 0, 0\n",
    "\n",
    "        self.experience.append((s, a, r, s_prime, not_done))\n",
    "\n",
    "    def experience_replay(self):\n",
    "        if self.batch_size > len(self.experience):\n",
    "            return\n",
    "        minibatch = map(np.array, zip(*sample(self.experience, self.batch_size)))\n",
    "        states, actions, rewards, next_states, not_done = minibatch\n",
    "\n",
    "        next_q_values = self.online_network.predict_on_batch(next_states)\n",
    "        best_actions = tf.argmax(next_q_values, axis=1)\n",
    "\n",
    "        next_q_values_target = self.target_network.predict_on_batch(next_states)\n",
    "        target_q_values = tf.gather_nd(next_q_values_target,\n",
    "                                       tf.stack((self.idx, tf.cast(best_actions, tf.int32)), axis=1))\n",
    "\n",
    "        targets = rewards + not_done * self.gamma * target_q_values\n",
    "        targets = np.reshape(targets, (-1, 1))\n",
    "        q_values = self.online_network.predict_on_batch(states)\n",
    "        q_values[[self.idx, actions]] = targets\n",
    "\n",
    "        loss = self.online_network.train_on_batch(x=states, y=q_values)\n",
    "        self.losses.append(loss)\n",
    "\n",
    "        if self.total_steps % self.tau == 0:\n",
    "            self.update_target()"
   ]
  },
  {
   "cell_type": "code",
   "execution_count": 15,
   "metadata": {},
   "outputs": [],
   "source": [
    "gamma = .99,  # discount factor\n",
    "tau = 100  # target network update frequency\n",
    "architecture = (256, 256)  # units per layer\n",
    "learning_rate = 0.0001  # learning rate\n",
    "l2_reg = 1e-6  # L2 regularization\n",
    "replay_capacity = int(1e6)\n",
    "batch_size = 4096\n",
    "epsilon_start = 1.0\n",
    "epsilon_end = .01\n",
    "epsilon_decay_steps = 250\n",
    "epsilon_exponential_decay = .99"
   ]
  },
  {
   "cell_type": "code",
   "execution_count": 16,
   "metadata": {},
   "outputs": [],
   "source": [
    "tf.keras.backend.clear_session()"
   ]
  },
  {
   "cell_type": "code",
   "execution_count": 17,
   "metadata": {},
   "outputs": [],
   "source": [
    "ddqn = DDQNAgent(state_dim=state_dim,\n",
    "                 num_actions=num_actions,\n",
    "                 learning_rate=learning_rate,\n",
    "                 gamma=gamma,\n",
    "                 epsilon_start=epsilon_start,\n",
    "                 epsilon_end=epsilon_end,\n",
    "                 epsilon_decay_steps=epsilon_decay_steps,\n",
    "                 epsilon_exponential_decay=epsilon_exponential_decay,\n",
    "                 replay_capacity=replay_capacity,\n",
    "                 architecture=architecture,\n",
    "                 l2_reg=l2_reg,\n",
    "                 tau=tau,\n",
    "                 batch_size=batch_size)"
   ]
  },
  {
   "cell_type": "code",
   "execution_count": 18,
   "metadata": {},
   "outputs": [
    {
     "name": "stdout",
     "output_type": "stream",
     "text": [
      "Model: \"sequential\"\n",
      "_________________________________________________________________\n",
      " Layer (type)                Output Shape              Param #   \n",
      "=================================================================\n",
      " Dense_1 (Dense)             (None, 256)               2816      \n",
      "                                                                 \n",
      " Dense_2 (Dense)             (None, 256)               65792     \n",
      "                                                                 \n",
      " dropout (Dropout)           (None, 256)               0         \n",
      "                                                                 \n",
      " Output (Dense)              (None, 3)                 771       \n",
      "                                                                 \n",
      "=================================================================\n",
      "Total params: 69,379\n",
      "Trainable params: 69,379\n",
      "Non-trainable params: 0\n",
      "_________________________________________________________________\n"
     ]
    }
   ],
   "source": [
    "ddqn.online_network.summary()"
   ]
  },
  {
   "cell_type": "code",
   "execution_count": 19,
   "metadata": {},
   "outputs": [],
   "source": [
    "total_steps = 0\n",
    "max_episodes = 1000\n",
    "episode_time, navs, market_navs, diffs, episode_eps = [], [], [], [], []"
   ]
  },
  {
   "cell_type": "code",
   "execution_count": 20,
   "metadata": {},
   "outputs": [],
   "source": [
    "def track_results(episode, nav_ma_100, nav_ma_10,\n",
    "                  market_nav_100, market_nav_10,\n",
    "                  win_ratio, total, epsilon):\n",
    "    time_ma = np.mean([episode_time[-100:]])\n",
    "    T = np.sum(episode_time)\n",
    "    \n",
    "    template = '{:>4d} | {} | Agent: {:>6.1%} ({:>6.1%}) | '\n",
    "    template += 'Market: {:>6.1%} ({:>6.1%}) | '\n",
    "    template += 'Wins: {:>5.1%} | eps: {:>6.3f}'\n",
    "    print(template.format(episode, format_time(total), \n",
    "                          nav_ma_100-1, nav_ma_10-1, \n",
    "                          market_nav_100-1, market_nav_10-1, \n",
    "                          win_ratio, epsilon))"
   ]
  },
  {
   "cell_type": "code",
   "execution_count": 21,
   "metadata": {},
   "outputs": [
    {
     "name": "stdout",
     "output_type": "stream",
     "text": [
      "  10 | 00:00:03 | Agent: -25.9% (-25.9%) | Market:  26.2% ( 26.2%) | Wins: 20.0% | eps:  0.960\n",
      "  20 | 00:01:02 | Agent: -25.6% (-25.3%) | Market: 160.6% (295.1%) | Wins: 15.0% | eps:  0.921\n",
      "  30 | 00:03:38 | Agent: -23.6% (-19.7%) | Market: 143.8% (110.1%) | Wins: 20.0% | eps:  0.881\n",
      "  40 | 00:06:26 | Agent: -23.4% (-22.6%) | Market: 123.1% ( 61.0%) | Wins: 20.0% | eps:  0.842\n",
      "  50 | 00:09:11 | Agent: -17.1% (  8.1%) | Market: 121.6% (115.4%) | Wins: 24.0% | eps:  0.802\n",
      "  60 | 00:12:02 | Agent: -19.1% (-29.0%) | Market: 103.0% ( 10.2%) | Wins: 25.0% | eps:  0.762\n",
      "  70 | 00:15:00 | Agent: -22.8% (-45.0%) | Market: 115.8% (192.9%) | Wins: 21.4% | eps:  0.723\n",
      "  80 | 00:18:08 | Agent: -22.9% (-23.6%) | Market: 121.0% (156.7%) | Wins: 22.5% | eps:  0.683\n",
      "  90 | 00:21:23 | Agent: -20.4% ( -0.5%) | Market: 124.4% (152.4%) | Wins: 24.4% | eps:  0.644\n",
      " 100 | 00:24:46 | Agent: -21.3% (-29.2%) | Market: 113.1% ( 10.6%) | Wins: 26.0% | eps:  0.604\n",
      " 110 | 00:28:15 | Agent: -21.2% (-25.1%) | Market: 115.2% ( 47.0%) | Wins: 25.0% | eps:  0.564\n",
      " 120 | 00:31:51 | Agent: -20.5% (-18.7%) | Market:  89.6% ( 40.1%) | Wins: 26.0% | eps:  0.525\n",
      " 130 | 00:35:41 | Agent: -18.2% (  3.3%) | Market:  90.4% (117.6%) | Wins: 26.0% | eps:  0.485\n",
      " 140 | 00:39:39 | Agent: -19.1% (-31.5%) | Market: 111.9% (275.7%) | Wins: 24.0% | eps:  0.446\n",
      " 150 | 00:43:48 | Agent: -23.7% (-37.8%) | Market: 113.7% (133.3%) | Wins: 20.0% | eps:  0.406\n",
      " 160 | 00:48:17 | Agent: -24.2% (-33.9%) | Market: 135.7% (230.7%) | Wins: 19.0% | eps:  0.366\n",
      " 170 | 00:53:08 | Agent: -20.3% ( -6.1%) | Market: 129.5% (130.7%) | Wins: 22.0% | eps:  0.327\n",
      " 180 | 00:58:23 | Agent: -18.9% ( -9.9%) | Market: 124.6% (107.6%) | Wins: 20.0% | eps:  0.287\n",
      " 190 | 01:04:08 | Agent: -19.3% ( -4.2%) | Market: 111.0% ( 16.7%) | Wins: 20.0% | eps:  0.248\n",
      " 200 | 01:10:28 | Agent: -18.6% (-22.5%) | Market: 114.6% ( 46.8%) | Wins: 18.0% | eps:  0.208\n",
      " 210 | 01:17:24 | Agent: -17.7% (-16.0%) | Market: 119.6% ( 97.0%) | Wins: 19.0% | eps:  0.168\n",
      " 220 | 01:24:57 | Agent: -19.4% (-35.5%) | Market: 124.4% ( 87.7%) | Wins: 19.0% | eps:  0.129\n",
      " 230 | 01:33:11 | Agent: -23.2% (-34.6%) | Market: 116.4% ( 38.4%) | Wins: 19.0% | eps:  0.089\n",
      " 240 | 01:42:02 | Agent: -21.4% (-13.7%) | Market:  91.1% ( 22.5%) | Wins: 22.0% | eps:  0.050\n",
      " 250 | 01:51:31 | Agent: -19.8% (-21.5%) | Market:  93.8% (159.7%) | Wins: 25.0% | eps:  0.010\n",
      " 260 | 02:01:40 | Agent: -20.4% (-39.7%) | Market:  74.9% ( 42.5%) | Wins: 24.0% | eps:  0.009\n",
      " 270 | 02:12:22 | Agent: -20.0% ( -2.6%) | Market:  74.8% (128.8%) | Wins: 22.0% | eps:  0.008\n",
      " 280 | 02:23:34 | Agent: -15.3% ( 36.8%) | Market:  72.2% ( 82.4%) | Wins: 26.0% | eps:  0.007\n",
      " 290 | 02:35:23 | Agent: -17.6% (-26.7%) | Market:  81.5% (109.5%) | Wins: 24.0% | eps:  0.007\n",
      " 300 | 02:47:39 | Agent: -14.2% ( 11.3%) | Market:  84.4% ( 75.8%) | Wins: 25.0% | eps:  0.006\n",
      " 310 | 03:00:30 | Agent: -14.8% (-22.1%) | Market:  89.7% (149.6%) | Wins: 25.0% | eps:  0.005\n",
      " 320 | 03:13:56 | Agent: -11.2% (  0.3%) | Market:  87.7% ( 68.2%) | Wins: 25.0% | eps:  0.005\n",
      " 330 | 03:28:06 | Agent:  -8.4% ( -6.7%) | Market: 104.3% (204.5%) | Wins: 24.0% | eps:  0.004\n",
      " 340 | 03:42:38 | Agent:  -5.4% ( 17.1%) | Market: 107.7% ( 56.4%) | Wins: 24.0% | eps:  0.004\n",
      " 350 | 03:57:47 | Agent:  -3.8% ( -6.2%) | Market: 105.1% (133.0%) | Wins: 22.0% | eps:  0.004\n",
      " 360 | 04:13:30 | Agent:  -3.5% (-36.8%) | Market: 106.0% ( 52.2%) | Wins: 23.0% | eps:  0.003\n",
      " 370 | 04:30:09 | Agent:  -5.5% (-21.9%) | Market: 100.6% ( 74.2%) | Wins: 25.0% | eps:  0.003\n",
      " 380 | 04:47:02 | Agent:  -9.6% ( -4.2%) | Market: 101.4% ( 91.1%) | Wins: 21.0% | eps:  0.003\n",
      " 390 | 05:05:08 | Agent:  -8.7% (-17.6%) | Market: 107.1% (166.2%) | Wins: 22.0% | eps:  0.002\n",
      " 400 | 05:22:44 | Agent: -10.4% ( -6.1%) | Market: 118.3% (187.5%) | Wins: 20.0% | eps:  0.002\n",
      " 410 | 05:40:49 | Agent:  -9.0% ( -8.0%) | Market: 125.6% (223.1%) | Wins: 19.0% | eps:  0.002\n",
      " 420 | 06:00:07 | Agent: -11.4% (-23.2%) | Market: 120.1% ( 13.3%) | Wins: 18.0% | eps:  0.002\n",
      " 430 | 06:19:52 | Agent: -13.6% (-28.6%) | Market: 100.8% ( 11.1%) | Wins: 18.0% | eps:  0.002\n",
      " 440 | 06:39:01 | Agent: -16.8% (-14.8%) | Market:  99.3% ( 41.5%) | Wins: 18.0% | eps:  0.001\n",
      " 450 | 07:00:29 | Agent: -14.9% ( 11.9%) | Market: 105.5% (194.6%) | Wins: 20.0% | eps:  0.001\n",
      " 460 | 07:20:18 | Agent: -10.1% ( 11.3%) | Market: 103.3% ( 30.1%) | Wins: 23.0% | eps:  0.001\n",
      " 470 | 07:41:36 | Agent:  -8.7% ( -7.2%) | Market: 104.5% ( 86.8%) | Wins: 24.0% | eps:  0.001\n"
     ]
    },
    {
     "ename": "KeyboardInterrupt",
     "evalue": "",
     "output_type": "error",
     "traceback": [
      "\u001b[1;31m---------------------------------------------------------------------------\u001b[0m",
      "\u001b[1;31mKeyboardInterrupt\u001b[0m                         Traceback (most recent call last)",
      "Cell \u001b[1;32mIn[21], line 15\u001b[0m\n\u001b[0;32m      9\u001b[0m ddqn\u001b[39m.\u001b[39mmemorize_transition(this_state, \n\u001b[0;32m     10\u001b[0m                          action, \n\u001b[0;32m     11\u001b[0m                          reward, \n\u001b[0;32m     12\u001b[0m                          next_state, \n\u001b[0;32m     13\u001b[0m                          \u001b[39m0.0\u001b[39m \u001b[39mif\u001b[39;00m done \u001b[39melse\u001b[39;00m \u001b[39m1.0\u001b[39m)\n\u001b[0;32m     14\u001b[0m \u001b[39mif\u001b[39;00m ddqn\u001b[39m.\u001b[39mtrain:\n\u001b[1;32m---> 15\u001b[0m     ddqn\u001b[39m.\u001b[39;49mexperience_replay()\n\u001b[0;32m     16\u001b[0m \u001b[39mif\u001b[39;00m done:\n\u001b[0;32m     17\u001b[0m     \u001b[39mbreak\u001b[39;00m\n",
      "Cell \u001b[1;32mIn[14], line 97\u001b[0m, in \u001b[0;36mDDQNAgent.experience_replay\u001b[1;34m(self)\u001b[0m\n\u001b[0;32m     95\u001b[0m     \u001b[39mreturn\u001b[39;00m\n\u001b[0;32m     96\u001b[0m minibatch \u001b[39m=\u001b[39m \u001b[39mmap\u001b[39m(np\u001b[39m.\u001b[39marray, \u001b[39mzip\u001b[39m(\u001b[39m*\u001b[39msample(\u001b[39mself\u001b[39m\u001b[39m.\u001b[39mexperience, \u001b[39mself\u001b[39m\u001b[39m.\u001b[39mbatch_size)))\n\u001b[1;32m---> 97\u001b[0m states, actions, rewards, next_states, not_done \u001b[39m=\u001b[39m minibatch\n\u001b[0;32m     99\u001b[0m next_q_values \u001b[39m=\u001b[39m \u001b[39mself\u001b[39m\u001b[39m.\u001b[39monline_network\u001b[39m.\u001b[39mpredict_on_batch(next_states)\n\u001b[0;32m    100\u001b[0m best_actions \u001b[39m=\u001b[39m tf\u001b[39m.\u001b[39margmax(next_q_values, axis\u001b[39m=\u001b[39m\u001b[39m1\u001b[39m)\n",
      "\u001b[1;31mKeyboardInterrupt\u001b[0m: "
     ]
    }
   ],
   "source": [
    "start = time()\n",
    "results = []\n",
    "for episode in range(1, max_episodes + 1):\n",
    "    this_state = trading_environment.reset()\n",
    "    for episode_step in range(max_episode_steps):\n",
    "        action = ddqn.epsilon_greedy_policy(this_state.reshape(-1, state_dim))\n",
    "        next_state, reward, done, _ = trading_environment.step(action)\n",
    "    \n",
    "        ddqn.memorize_transition(this_state, \n",
    "                                 action, \n",
    "                                 reward, \n",
    "                                 next_state, \n",
    "                                 0.0 if done else 1.0)\n",
    "        if ddqn.train:\n",
    "            ddqn.experience_replay()\n",
    "        if done:\n",
    "            break\n",
    "        this_state = next_state\n",
    "\n",
    "    # get DataFrame with seqence of actions, returns and nav values\n",
    "    result = trading_environment.env.simulator.result()\n",
    "    \n",
    "    # get results of last step\n",
    "    final = result.iloc[-1]\n",
    "\n",
    "    # apply return (net of cost) of last action to last starting nav \n",
    "    nav = final.nav * (1 + final.strategy_return)\n",
    "    navs.append(nav)\n",
    "\n",
    "    # market nav \n",
    "    market_nav = final.market_nav\n",
    "    market_navs.append(market_nav)\n",
    "\n",
    "    # track difference between agent an market NAV results\n",
    "    diff = nav - market_nav\n",
    "    diffs.append(diff)\n",
    "    \n",
    "    if episode % 10 == 0:\n",
    "        track_results(episode, \n",
    "                      # show mov. average results for 100 (10) periods\n",
    "                      np.mean(navs[-100:]), \n",
    "                      np.mean(navs[-10:]), \n",
    "                      np.mean(market_navs[-100:]), \n",
    "                      np.mean(market_navs[-10:]), \n",
    "                      # share of agent wins, defined as higher ending nav\n",
    "                      np.sum([s > 0 for s in diffs[-100:]])/min(len(diffs), 100), \n",
    "                      time() - start, ddqn.epsilon)\n",
    "    if len(diffs) > 25 and all([r > 0 for r in diffs[-25:]]):\n",
    "        print(result.tail())\n",
    "        break\n",
    "\n",
    "trading_environment.close()"
   ]
  },
  {
   "cell_type": "code",
   "execution_count": 22,
   "metadata": {},
   "outputs": [
    {
     "name": "stdout",
     "output_type": "stream",
     "text": [
      " 480 | 08:10:04 | Agent:  -9.3% (-10.1%) | Market:  97.9% ( 24.7%) | Wins: 25.0% | eps:  0.001\n"
     ]
    }
   ],
   "source": [
    "this_state = next_state\n",
    "# get DataFrame with seqence of actions, returns and nav values\n",
    "result = trading_environment.env.simulator.result()\n",
    "    \n",
    "    # get results of last step\n",
    "final = result.iloc[-1]\n",
    "\n",
    "    # apply return (net of cost) of last action to last starting nav \n",
    "nav = final.nav * (1 + final.strategy_return)\n",
    "navs.append(nav)\n",
    "\n",
    "    # market nav \n",
    "market_nav = final.market_nav\n",
    "market_navs.append(market_nav)\n",
    "\n",
    "    # track difference between agent an market NAV results\n",
    "diff = nav - market_nav\n",
    "diffs.append(diff)\n",
    "    \n",
    "if episode % 10 == 0:\n",
    "    track_results(episode, \n",
    "                      # show mov. average results for 100 (10) periods\n",
    "                    np.mean(navs[-100:]), \n",
    "                    np.mean(navs[-10:]), \n",
    "                    np.mean(market_navs[-100:]), \n",
    "                    np.mean(market_navs[-10:]), \n",
    "                      # share of agent wins, defined as higher ending nav\n",
    "                    np.sum([s > 0 for s in diffs[-100:]])/min(len(diffs), 100), \n",
    "                    time() - start, ddqn.epsilon)\n",
    "if len(diffs) > 25 and all([r > 0 for r in diffs[-25:]]):\n",
    "    print(result.tail())\n",
    "\n",
    "trading_environment.close()"
   ]
  },
  {
   "cell_type": "code",
   "execution_count": 23,
   "metadata": {},
   "outputs": [
    {
     "name": "stdout",
     "output_type": "stream",
     "text": [
      "<class 'pandas.core.frame.DataFrame'>\n",
      "Int64Index: 480 entries, 1 to 480\n",
      "Data columns (total 4 columns):\n",
      " #   Column             Non-Null Count  Dtype  \n",
      "---  ------             --------------  -----  \n",
      " 0   Agent              480 non-null    float64\n",
      " 1   Market             480 non-null    float64\n",
      " 2   Difference         480 non-null    float64\n",
      " 3   Strategy Wins (%)  381 non-null    float64\n",
      "dtypes: float64(4)\n",
      "memory usage: 18.8 KB\n"
     ]
    }
   ],
   "source": [
    "results = pd.DataFrame({'Episode': list(range(1, episode+1)),\n",
    "                        'Agent': navs,\n",
    "                        'Market': market_navs,\n",
    "                        'Difference': diffs}).set_index('Episode')\n",
    "\n",
    "results['Strategy Wins (%)'] = (results.Difference > 0).rolling(100).sum()\n",
    "results.info()"
   ]
  },
  {
   "cell_type": "code",
   "execution_count": 24,
   "metadata": {},
   "outputs": [
    {
     "data": {
      "image/png": "[encoded data removed]",
      "text/plain": [
       "<Figure size 640x480 with 1 Axes>"
      ]
     },
     "metadata": {},
     "output_type": "display_data"
    }
   ],
   "source": [
    "with sns.axes_style('white'):\n",
    "    sns.distplot(results.Difference)\n",
    "    sns.despine()"
   ]
  },
  {
   "cell_type": "code",
   "execution_count": 25,
   "metadata": {},
   "outputs": [
    {
     "data": {
      "image/png": "[encoded data removed]",
      "text/plain": [
       "<Figure size 1400x400 with 2 Axes>"
      ]
     },
     "metadata": {},
     "output_type": "display_data"
    }
   ],
   "source": [
    "fig, axes = plt.subplots(ncols=2, figsize=(14, 4), sharey=True)\n",
    "\n",
    "df1 = (results[['Agent', 'Market']]\n",
    "       .sub(1)\n",
    "       .rolling(100)\n",
    "       .mean())\n",
    "df1.plot(ax=axes[0],\n",
    "         title='Annual Returns (Moving Average)',\n",
    "         lw=1)\n",
    "\n",
    "df2 = results['Strategy Wins (%)'].div(100).rolling(50).mean()\n",
    "df2.plot(ax=axes[1],\n",
    "         title='Agent Outperformance (%, Moving Average)')\n",
    "\n",
    "for ax in axes:\n",
    "    ax.yaxis.set_major_formatter(\n",
    "        FuncFormatter(lambda y, _: '{:.0%}'.format(y)))\n",
    "    ax.xaxis.set_major_formatter(\n",
    "        FuncFormatter(lambda x, _: '{:,.0f}'.format(x)))\n",
    "axes[1].axhline(.5, ls='--', c='k', lw=1)\n",
    "\n",
    "sns.despine()\n",
    "fig.tight_layout()\n",
    "fig.savefig(results_path / 'performance', dpi=300)"
   ]
  },
  {
   "cell_type": "code",
   "execution_count": 30,
   "metadata": {},
   "outputs": [
    {
     "name": "stderr",
     "output_type": "stream",
     "text": [
      "WARNING:absl:Function `_wrapped_model` contains input name(s) Dense_1_input with unsupported characters which will be renamed to dense_1_input in the SavedModel.\n"
     ]
    },
    {
     "name": "stdout",
     "output_type": "stream",
     "text": [
      "INFO:tensorflow:Assets written to: models/model\\assets\n"
     ]
    },
    {
     "name": "stderr",
     "output_type": "stream",
     "text": [
      "INFO:tensorflow:Assets written to: models/model\\assets\n"
     ]
    }
   ],
   "source": [
    "ddqn.online_network.save('models/model')"
   ]
  }
 ],
 "metadata": {
  "kernelspec": {
   "display_name": "Python 3",
   "language": "python",
   "name": "python3"
  },
  "language_info": {
   "codemirror_mode": {
    "name": "ipython",
    "version": 3
   },
   "file_extension": ".py",
   "mimetype": "text/x-python",
   "name": "python",
   "nbconvert_exporter": "python",
   "pygments_lexer": "ipython3",
   "version": "3.9.7"
  },
  "orig_nbformat": 4
 },
 "nbformat": 4,
 "nbformat_minor": 2
}
